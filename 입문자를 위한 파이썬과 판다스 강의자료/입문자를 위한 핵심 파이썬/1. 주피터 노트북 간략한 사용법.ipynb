{
 "cells": [
  {
   "cell_type": "markdown",
   "id": "9c62c3b6",
   "metadata": {},
   "source": [
    "### 자주 사용하는 단축키\n",
    "\n",
    "`코드 실행`\n",
    "* ctrl + enter : 해당 코드 블록 실행\n",
    "* shift + enter : 해당 코드 블록 실행 후 다음 코드 블록 이동\n",
    "* alt + enter : 해당 코드 블록 실행 후 다음 코드 블록 생성\n",
    "\n",
    "`코드 블록 추가`\n",
    "* b : 현재 코드 블록 아래 새로운 코드 블록 추가\n",
    "* a : 현재 코드 블록 위 새로운 코드 블록 추가\n",
    "\n",
    "`코드 블록 삭제`\n",
    "* dd : 현재 코드 블록 삭제\n",
    "\n",
    "`코드 블록 복사`\n",
    "* c : 현재 코드 블록 복사\n",
    "* x : 현재 코드 블록 잘라내기\n",
    "\n",
    "`코드 블록 붙여넣기`\n",
    "* v : 복사한 코드 블록 붙여넣기\n",
    "\n",
    "`마크다운 모드`\n",
    "* m : 마크다운 모드로 변경 (일종의 주석이라고 생각하면 됌)  \n",
    "https://gist.github.com/ihoneymon/652be052a0727ad59601\n",
    "\n",
    "`주석`\n",
    "* ctrl + / : 주석처리"
   ]
  },
  {
   "cell_type": "markdown",
   "id": "31cf07bd",
   "metadata": {},
   "source": [
    "\n"
   ]
  }
 ],
 "metadata": {
  "kernelspec": {
   "display_name": "Python 3 (ipykernel)",
   "language": "python",
   "name": "python3"
  },
  "language_info": {
   "codemirror_mode": {
    "name": "ipython",
    "version": 3
   },
   "file_extension": ".py",
   "mimetype": "text/x-python",
   "name": "python",
   "nbconvert_exporter": "python",
   "pygments_lexer": "ipython3",
   "version": "3.9.13"
  }
 },
 "nbformat": 4,
 "nbformat_minor": 5
}
