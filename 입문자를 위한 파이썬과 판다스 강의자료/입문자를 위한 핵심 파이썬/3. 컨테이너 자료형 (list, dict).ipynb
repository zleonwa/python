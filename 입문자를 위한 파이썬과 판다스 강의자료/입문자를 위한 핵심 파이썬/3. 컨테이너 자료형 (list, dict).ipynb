{
 "cells": [
  {
   "cell_type": "markdown",
   "id": "a473f89e",
   "metadata": {},
   "source": [
    "### 컨테이너 자료형 (list, dict)\n",
    "\n",
    "컨테이너 자료형은 컨테이너 박스처럼 많은 자료형을 담을 수 있는 공간임."
   ]
  },
  {
   "cell_type": "markdown",
   "id": "0700ddb0",
   "metadata": {},
   "source": [
    "  "
   ]
  },
  {
   "cell_type": "markdown",
   "id": "0a170927",
   "metadata": {},
   "source": [
    "  "
   ]
  },
  {
   "cell_type": "markdown",
   "id": "6f0957a7",
   "metadata": {},
   "source": [
    "  "
   ]
  },
  {
   "cell_type": "markdown",
   "id": "3033e1fe",
   "metadata": {},
   "source": [
    "**list**\n",
    "\n",
    "* [자료1, 자료2]"
   ]
  },
  {
   "cell_type": "markdown",
   "id": "f3a418d3",
   "metadata": {},
   "source": [
    "**선언(create)**"
   ]
  },
  {
   "cell_type": "code",
   "execution_count": 12,
   "id": "5ce7cbd3",
   "metadata": {},
   "outputs": [
    {
     "data": {
      "text/plain": [
       "['jenny', 'james', 'john']"
      ]
     },
     "execution_count": 12,
     "metadata": {},
     "output_type": "execute_result"
    }
   ],
   "source": [
    "names = [\"jenny\", \"james\", \"john\"]\n",
    "names"
   ]
  },
  {
   "cell_type": "markdown",
   "id": "0d19a712",
   "metadata": {},
   "source": [
    "**인덱싱과 슬라이싱 (read)**\n",
    "\n",
    "문자 자료형과 마찬가지로  \n",
    "주어진 리스트에서 필요한 부분만 가져올 수 있음  \n",
    "대괄호 [시작:끝:단위]를 사용"
   ]
  },
  {
   "cell_type": "code",
   "execution_count": 13,
   "id": "4115675f",
   "metadata": {},
   "outputs": [
    {
     "data": {
      "text/plain": [
       "'john'"
      ]
     },
     "execution_count": 13,
     "metadata": {},
     "output_type": "execute_result"
    }
   ],
   "source": [
    "names[2]"
   ]
  },
  {
   "cell_type": "markdown",
   "id": "08b2468f",
   "metadata": {},
   "source": [
    "**수정 (update)**"
   ]
  },
  {
   "cell_type": "code",
   "execution_count": 14,
   "id": "1f7709c0",
   "metadata": {
    "scrolled": true
   },
   "outputs": [
    {
     "data": {
      "text/plain": [
       "['tom', 'james', 'john']"
      ]
     },
     "execution_count": 14,
     "metadata": {},
     "output_type": "execute_result"
    }
   ],
   "source": [
    "names[0] = \"tom\"\n",
    "names"
   ]
  },
  {
   "cell_type": "markdown",
   "id": "6a33eecf",
   "metadata": {},
   "source": [
    "**삭제 (delete)**"
   ]
  },
  {
   "cell_type": "code",
   "execution_count": 15,
   "id": "54360255",
   "metadata": {
    "scrolled": true
   },
   "outputs": [
    {
     "data": {
      "text/plain": [
       "['james', 'john']"
      ]
     },
     "execution_count": 15,
     "metadata": {},
     "output_type": "execute_result"
    }
   ],
   "source": [
    "names.remove(\"tom\")\n",
    "names"
   ]
  },
  {
   "cell_type": "markdown",
   "id": "47a54708",
   "metadata": {},
   "source": [
    "  삽입 (insert)"
   ]
  },
  {
   "cell_type": "code",
   "execution_count": 16,
   "id": "6a717755",
   "metadata": {},
   "outputs": [
    {
     "data": {
      "text/plain": [
       "['james', 'john', 'dami']"
      ]
     },
     "execution_count": 16,
     "metadata": {},
     "output_type": "execute_result"
    }
   ],
   "source": [
    "names.append(\"dami\")\n",
    "names"
   ]
  },
  {
   "cell_type": "code",
   "execution_count": 17,
   "id": "fdc95124",
   "metadata": {},
   "outputs": [
    {
     "data": {
      "text/plain": [
       "['james', 'yonghwa', 'john', 'dami']"
      ]
     },
     "execution_count": 17,
     "metadata": {},
     "output_type": "execute_result"
    }
   ],
   "source": [
    "names.insert(1,\"yonghwa\")\n",
    "names"
   ]
  },
  {
   "cell_type": "markdown",
   "id": "7c3b4e4f",
   "metadata": {},
   "source": [
    " "
   ]
  },
  {
   "cell_type": "markdown",
   "id": "869a483b",
   "metadata": {},
   "source": [
    " "
   ]
  },
  {
   "cell_type": "markdown",
   "id": "83e206b1",
   "metadata": {},
   "source": [
    "  "
   ]
  },
  {
   "cell_type": "markdown",
   "id": "43e90e8b",
   "metadata": {},
   "source": [
    "**dict**\n",
    "\n",
    "* {key: val, key: val}"
   ]
  },
  {
   "cell_type": "markdown",
   "id": "979e3da3",
   "metadata": {},
   "source": [
    "**선언(create)**"
   ]
  },
  {
   "cell_type": "code",
   "execution_count": 6,
   "id": "597f3fb0",
   "metadata": {},
   "outputs": [
    {
     "data": {
      "text/plain": [
       "{'aa123': '123', 'bb456': '456', 'cc678': '678'}"
      ]
     },
     "execution_count": 6,
     "metadata": {},
     "output_type": "execute_result"
    }
   ],
   "source": [
    "users = {\"aa123\": \"123\", \"bb456\": \"456\", \"cc678\": \"678\"}\n",
    "users"
   ]
  },
  {
   "cell_type": "markdown",
   "id": "eba66207",
   "metadata": {},
   "source": [
    "**조회 (read)**\n",
    "\n",
    "인덱스가 없음. \n",
    "이를 hash 형 자료라고도 하는데  \n",
    "훨씬 더 검색속도가 빠름  \n",
    "인스타 해시태그 할때 그 해시와 같음\n",
    "\n",
    "[key] 값으로 조회"
   ]
  },
  {
   "cell_type": "code",
   "execution_count": 17,
   "id": "63ced56b",
   "metadata": {
    "scrolled": true
   },
   "outputs": [
    {
     "data": {
      "text/plain": [
       "'123'"
      ]
     },
     "execution_count": 17,
     "metadata": {},
     "output_type": "execute_result"
    }
   ],
   "source": [
    "users[\"aa123\"]"
   ]
  },
  {
   "cell_type": "markdown",
   "id": "90f2fd88",
   "metadata": {},
   "source": [
    "**수정 (update)**"
   ]
  },
  {
   "cell_type": "code",
   "execution_count": 7,
   "id": "0a827772",
   "metadata": {},
   "outputs": [
    {
     "data": {
      "text/plain": [
       "{'aa123': 'qq123', 'bb456': '456', 'cc678': '678'}"
      ]
     },
     "execution_count": 7,
     "metadata": {},
     "output_type": "execute_result"
    }
   ],
   "source": [
    "users[\"aa123\"] = \"qq123\"\n",
    "users"
   ]
  },
  {
   "cell_type": "code",
   "execution_count": 8,
   "id": "4fa1356a",
   "metadata": {},
   "outputs": [
    {
     "data": {
      "text/plain": [
       "{'aa123': 'qq123', 'bb456': '456', 'cc678': '678', 'dd123': 'test'}"
      ]
     },
     "execution_count": 8,
     "metadata": {},
     "output_type": "execute_result"
    }
   ],
   "source": [
    "# 새로운 요소를 추가하는 방법도 같음\n",
    "\n",
    "users['dd123'] = \"test\"\n",
    "users"
   ]
  },
  {
   "cell_type": "markdown",
   "id": "4d5a008a",
   "metadata": {},
   "source": [
    "**삭제 (delete)**"
   ]
  },
  {
   "cell_type": "code",
   "execution_count": 9,
   "id": "7e9f808f",
   "metadata": {},
   "outputs": [
    {
     "data": {
      "text/plain": [
       "{'bb456': '456', 'cc678': '678', 'dd123': 'test'}"
      ]
     },
     "execution_count": 9,
     "metadata": {},
     "output_type": "execute_result"
    }
   ],
   "source": [
    "del users[\"aa123\"]\n",
    "users"
   ]
  }
 ],
 "metadata": {
  "kernelspec": {
   "display_name": "Python 3 (ipykernel)",
   "language": "python",
   "name": "python3"
  },
  "language_info": {
   "codemirror_mode": {
    "name": "ipython",
    "version": 3
   },
   "file_extension": ".py",
   "mimetype": "text/x-python",
   "name": "python",
   "nbconvert_exporter": "python",
   "pygments_lexer": "ipython3",
   "version": "3.9.13"
  }
 },
 "nbformat": 4,
 "nbformat_minor": 5
}
