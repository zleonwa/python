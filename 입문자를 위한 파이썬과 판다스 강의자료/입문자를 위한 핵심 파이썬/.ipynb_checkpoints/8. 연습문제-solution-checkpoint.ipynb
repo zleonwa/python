{
 "cells": [
  {
   "cell_type": "markdown",
   "id": "fd97bb43",
   "metadata": {},
   "source": [
    "1. 문자열 포멧팅\n",
    "\n",
    "다음의 코드를 입력하고, 활용해서 주어진 결과를 3가지 방법으로 만들어 주세요.\n",
    "\n",
    "```python\n",
    "주머니 = 90\n",
    "지갑 = 120\n",
    "통장 = 140\n",
    "\n",
    "총액 = 주머니 + 지갑 + 통장\n",
    "\n",
    "이름 = \"짱구\"\n",
    "```\n",
    "\n",
    "print 결과 :\n",
    "\n",
    "`짱구는 주머니에 90원, 지갑에 120원, 통장에 140원이 있다. 총합 350원이다.`\n",
    "\n",
    "아래 3가지 방법을 이용해 같은 결과를 만들어 주세요.\n",
    "\n",
    "1. ',' 로 구분하는 방법\n",
    "2. '+'를 이용하는 방법\n",
    "3. formatting 기법을 이용하는 방법"
   ]
  },
  {
   "cell_type": "code",
   "execution_count": 2,
   "id": "bfccd8f2",
   "metadata": {},
   "outputs": [],
   "source": [
    "# 코드 입력하기\n",
    "\n",
    "주머니 = 90\n",
    "지갑 = 120\n",
    "통장 = 140\n",
    "\n",
    "총액 = 주머니 + 지갑 + 통장\n",
    "\n",
    "이름 = \"짱구\""
   ]
  },
  {
   "cell_type": "code",
   "execution_count": 3,
   "id": "545a08e9",
   "metadata": {},
   "outputs": [
    {
     "name": "stdout",
     "output_type": "stream",
     "text": [
      "짱구의 주머니에  90 원, 지갑에  120 원, 통장에  140 원이 있다.총합  350 원이다.\n"
     ]
    }
   ],
   "source": [
    "print(\"짱구의 주머니에 \", 주머니,\"원,\", \"지갑에 \", 지갑, \"원,\", \"통장에 \", 통장, \"원이 있다.\" \"총합 \", 총액 ,\"원이다.\")"
   ]
  },
  {
   "cell_type": "code",
   "execution_count": 5,
   "id": "5db2687d",
   "metadata": {},
   "outputs": [
    {
     "name": "stdout",
     "output_type": "stream",
     "text": [
      "짱구의 주머니에 90원, 지갑에 120원, 통장에 140원이 있다. 총합 350원이다.\n"
     ]
    }
   ],
   "source": [
    "print(\"짱구의 주머니에 \"+ str(주머니)+\"원, 지갑에 \"+ str(지갑)+ \"원, 통장에 \"+ str(통장)+ \"원이 있다. 총합 \"+ str(총액) +\"원이다.\")"
   ]
  },
  {
   "cell_type": "code",
   "execution_count": 6,
   "id": "f61d53d8",
   "metadata": {},
   "outputs": [
    {
     "name": "stdout",
     "output_type": "stream",
     "text": [
      "짱구는 주머니에 90원, 지갑에 120원, 통장에 140원이 있다. 총합 350원이다.\n"
     ]
    }
   ],
   "source": [
    "print(f\"짱구는 주머니에 {주머니}원, 지갑에 {지갑}원, 통장에 {통장}원이 있다. 총합 {총액}원이다.\")"
   ]
  },
  {
   "cell_type": "markdown",
   "id": "0014f95c",
   "metadata": {},
   "source": [
    "  "
   ]
  },
  {
   "cell_type": "markdown",
   "id": "ac2cc431",
   "metadata": {},
   "source": [
    "  "
   ]
  },
  {
   "cell_type": "markdown",
   "id": "455f3bc5",
   "metadata": {},
   "source": [
    "  "
   ]
  },
  {
   "cell_type": "markdown",
   "id": "1368b8d2",
   "metadata": {},
   "source": [
    "2. 문자열 관련 메서드\n",
    "\n",
    "적절한 함수를 사용해서 다음과 같은 문자열을 바꿔주세요.\n",
    "\n",
    "\n",
    "```python\n",
    "korean = \"가 나 다 라 마 바 사\"\n",
    "```\n",
    "\n",
    "결과 : `\"가-나-다-라-마-바-사\"`\n",
    "\n",
    "hint : 공백을 \\- 으로 **바꾸기** -> 구글링: 파이썬 문자열 교체"
   ]
  },
  {
   "cell_type": "code",
   "execution_count": 10,
   "id": "5e5c5c95",
   "metadata": {},
   "outputs": [
    {
     "data": {
      "text/plain": [
       "'가-나-다-라-마-바-사'"
      ]
     },
     "execution_count": 10,
     "metadata": {},
     "output_type": "execute_result"
    }
   ],
   "source": [
    "# 코드 입력하기\n",
    "korean = \"가 나 다 라 마 바 사\"\n",
    "\n",
    "updatedKorean = korean.replace(\" \", \"-\")\n",
    "updatedKorean"
   ]
  },
  {
   "cell_type": "markdown",
   "id": "6eab59b5",
   "metadata": {},
   "source": [
    "  "
   ]
  },
  {
   "cell_type": "markdown",
   "id": "e79bcf49",
   "metadata": {},
   "source": [
    "  "
   ]
  },
  {
   "cell_type": "markdown",
   "id": "ce614955",
   "metadata": {},
   "source": [
    "  "
   ]
  },
  {
   "cell_type": "markdown",
   "id": "8afab403",
   "metadata": {},
   "source": [
    "3. 리스트 가공 + 조건&반복\n",
    "\n",
    "num 이라는 변수에 1~10까지의 숫자를 입력합니다.  \n",
    "`num을 활용해서` 짝수만 있는 리스트(even), 홀수만 있는 리스트(odd)를 각각 새로운 변수에 할당하고 호출해보세요."
   ]
  },
  {
   "cell_type": "code",
   "execution_count": 11,
   "id": "57f1a419",
   "metadata": {},
   "outputs": [
    {
     "name": "stdout",
     "output_type": "stream",
     "text": [
      "[2, 4, 6, 8, 10] [1, 3, 5, 7, 9]\n"
     ]
    }
   ],
   "source": [
    "# 코드 입력하기\n",
    "num = [i for i in range(1, 11)]\n",
    "\n",
    "even = []\n",
    "odd = []\n",
    "\n",
    "for n in num:\n",
    "    if n % 2 == 0:\n",
    "        even.append(n)\n",
    "    else:\n",
    "        odd.append(n)\n",
    "        \n",
    "print(even, odd)"
   ]
  },
  {
   "cell_type": "markdown",
   "id": "2e59da02",
   "metadata": {},
   "source": [
    "  "
   ]
  },
  {
   "cell_type": "markdown",
   "id": "e7d16d0a",
   "metadata": {},
   "source": [
    "  "
   ]
  },
  {
   "cell_type": "markdown",
   "id": "d4b686c2",
   "metadata": {},
   "source": [
    "  "
   ]
  },
  {
   "cell_type": "markdown",
   "id": "d98ac47f",
   "metadata": {},
   "source": [
    "4. 반복문 활용\n",
    "\n",
    "다음과 같은 리스트가 주어졌을 때, 캐릭터의 이름과 캐릭터 글자수를 출력하세요.\n",
    "\n",
    "```python\n",
    "characters = [\"사고뭉치 짱구\", \"시크한 철수\", \"화난유리\", \"코맹맹이 맹구\", \"쫄보 훈이\"]\n",
    "```\n",
    "\n",
    "결과예시\n",
    "\n",
    "```\n",
    "사고뭉치 짱구 7\n",
    "시크한 철수 6\n",
    "~~~ 생략\n",
    "```"
   ]
  },
  {
   "cell_type": "code",
   "execution_count": 21,
   "id": "58f02c98",
   "metadata": {},
   "outputs": [
    {
     "name": "stdout",
     "output_type": "stream",
     "text": [
      "사고뭉치 짱구 7\n",
      "시크한 철수 6\n",
      "화난유리 4\n",
      "코맹맹이 맹구 7\n",
      "쫄보 훈이 5\n"
     ]
    }
   ],
   "source": [
    "# 코드 입력하기\n",
    "\n",
    "characters = [\"사고뭉치 짱구\", \"시크한 철수\", \"화난유리\", \"코맹맹이 맹구\", \"쫄보 훈이\"]\n",
    "\n",
    "for char in characters:\n",
    "    print(char, len(char))"
   ]
  },
  {
   "cell_type": "markdown",
   "id": "e5432477",
   "metadata": {},
   "source": [
    "  "
   ]
  },
  {
   "cell_type": "markdown",
   "id": "81bdf90f",
   "metadata": {},
   "source": [
    "  "
   ]
  },
  {
   "cell_type": "markdown",
   "id": "bb7a8fd3",
   "metadata": {},
   "source": [
    "  "
   ]
  },
  {
   "cell_type": "markdown",
   "id": "3922083e",
   "metadata": {},
   "source": [
    "5. 딕셔너리 + 조건\n",
    "\n",
    "```python\n",
    "userInfo = {'red': '123', 'blue': 'blue123', 'green': '456', 'pink': '789'}\n",
    "```\n",
    "\n",
    "사용자 정보가 위와 같이 주어질때, 로그인 문제를 풀어보세요. \n",
    "\n",
    "유저 아이디와 비밀번호는 위와 같이 `userInfo` 주어져 있습니다.\n",
    "\n",
    "아이디와 비밀번호를 `userId`와 `userPassword`라는 변수에 할당하여 임의의 문자열을 입력하세요.\n",
    "\n",
    "입력한 아이디와 비밀번호가 userInfo에 있는 정보와 일치하면 '안녕하세요 ~님'을 출력하고\n",
    "\n",
    "아이디는 일치하지만, 비밀번호는 일치하지 않는다면 '비밀번호가 틀렸습니다.'를 출력하고\n",
    "\n",
    "아이디가 일치하지 않는다면 '존재하지 않는 아이디입니다.'를 출력하는 함수를 만들어보고, 정상작동하는지 확인해봅시다."
   ]
  },
  {
   "cell_type": "code",
   "execution_count": 20,
   "id": "b22ac600",
   "metadata": {},
   "outputs": [
    {
     "name": "stdout",
     "output_type": "stream",
     "text": [
      "안녕하세요 red님\n"
     ]
    }
   ],
   "source": [
    "# 코드 입력하기\n",
    "userInfo = {'red': '123', 'blue': 'blue123', 'green': '456', 'pink': '789'}\n",
    "userId = \"red\"\n",
    "userPassword = \"123\"\n",
    "\n",
    "# 아이디 비밀번호 모두 일치\n",
    "if (userId in userInfo) and (userInfo[userId] == userPassword):\n",
    "    print(f\"안녕하세요 {userId}님\")\n",
    "if (userId in userInfo) and (userInfo[userId] != userPassword):\n",
    "    print(\"비밀번호가 틀렸습니다.\")\n",
    "if not (userId in userInfo):\n",
    "    print(\"존재하지 않는 아이디입니다.\")"
   ]
  },
  {
   "cell_type": "markdown",
   "id": "7011ea60",
   "metadata": {},
   "source": [
    "  "
   ]
  },
  {
   "cell_type": "markdown",
   "id": "7729b88a",
   "metadata": {},
   "source": [
    "  "
   ]
  },
  {
   "cell_type": "markdown",
   "id": "7a116b8b",
   "metadata": {},
   "source": [
    "  "
   ]
  },
  {
   "cell_type": "markdown",
   "id": "e36664f6",
   "metadata": {},
   "source": [
    "6. 함수 활용\n",
    "\n",
    "다음의 조건에 맞는 함수를 작성하세요.\n",
    "\n",
    "`함수명: classifyEmail\n",
    "input: 이메일 주소 리스트 (ex, [abc132@naver.com, wow880@gmail.com, hahahahaha@naver.com])\n",
    "ouput: key값이 메일사이트(naver, gmail), value가 id리스트인 딕셔너리\n",
    "단, 메일 사이트는 naver와 gamail 두개 밖에 존재하지 않는다고 가정한다.`\n",
    "\n",
    "```python\n",
    "# 실행예시\n",
    "email = ['abc132@naver.com', 'wow880@gmail.com', 'hahahahaha@naver.com']\n",
    "result = classifyEmail(email)\n",
    "print(result)\n",
    "\n",
    "# 결과\n",
    "{'naver':['abc123', 'hahahahahaha'], 'gmail':['wow880']}\n",
    "\n",
    "```"
   ]
  },
  {
   "cell_type": "code",
   "execution_count": 24,
   "id": "bd1f5685",
   "metadata": {},
   "outputs": [
    {
     "name": "stdout",
     "output_type": "stream",
     "text": [
      "{'naver': ['abc132@naver.com', 'hahahahaha@naver.com'], 'gmail': ['wow880@gmail.com']}\n"
     ]
    }
   ],
   "source": [
    "# 코드 입력하기\n",
    "\n",
    "email = ['abc132@naver.com', 'wow880@gmail.com', 'hahahahaha@naver.com']\n",
    "\n",
    "def classifyEmail(email):\n",
    "    result = {\"naver\": [], \"gmail\": []}\n",
    "    \n",
    "    for e in email:\n",
    "        ticker = e.split(\"@\")[1]\n",
    "        \n",
    "        if ticker == \"naver.com\":\n",
    "            result['naver'].append(e)\n",
    "        else:\n",
    "            result['gmail'].append(e)\n",
    "    \n",
    "    return result\n",
    "        \n",
    "result = classifyEmail(email)\n",
    "print(result)"
   ]
  }
 ],
 "metadata": {
  "kernelspec": {
   "display_name": "Python 3 (ipykernel)",
   "language": "python",
   "name": "python3"
  },
  "language_info": {
   "codemirror_mode": {
    "name": "ipython",
    "version": 3
   },
   "file_extension": ".py",
   "mimetype": "text/x-python",
   "name": "python",
   "nbconvert_exporter": "python",
   "pygments_lexer": "ipython3",
   "version": "3.9.13"
  }
 },
 "nbformat": 4,
 "nbformat_minor": 5
}
