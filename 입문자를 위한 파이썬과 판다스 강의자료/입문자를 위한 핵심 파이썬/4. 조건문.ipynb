{
 "cells": [
  {
   "cell_type": "markdown",
   "id": "48569559",
   "metadata": {},
   "source": [
    "## 조건문.\n",
    "\n",
    "조건에 따라 다르게 실행 해야하는 경우 사용\n",
    "\n",
    "**사용법**\n",
    "\n",
    "```\n",
    "if 조건:\n",
    "    조건이 참일 때 실행할 코드\n",
    "elif 조건:\n",
    "    조건이 참일 때 실행할 코드\n",
    "else:\n",
    "    위 조건이 모두 거짓일 때 실행할 코드\n",
    "```\n",
    "        \n",
    "    "
   ]
  },
  {
   "cell_type": "markdown",
   "id": "630a2fd7",
   "metadata": {},
   "source": [
    "  "
   ]
  },
  {
   "cell_type": "code",
   "execution_count": 2,
   "id": "99cbf1b0",
   "metadata": {},
   "outputs": [
    {
     "name": "stdout",
     "output_type": "stream",
     "text": [
      "isTrue 는 False입니다.\n"
     ]
    }
   ],
   "source": [
    "isTrue = False\n",
    "\n",
    "if isTrue:\n",
    "    print(\"isTrue 는 True입니다.\")\n",
    "else:\n",
    "    print(\"isTrue 는 False입니다.\")"
   ]
  },
  {
   "cell_type": "markdown",
   "id": "311c200f",
   "metadata": {},
   "source": [
    "  "
   ]
  },
  {
   "cell_type": "markdown",
   "id": "334715c6",
   "metadata": {},
   "source": [
    "  "
   ]
  },
  {
   "cell_type": "markdown",
   "id": "f468be44",
   "metadata": {},
   "source": [
    "**조건문의 조건에는 다양한 비교연산, 논리연산이 들어갈 수 있음**"
   ]
  },
  {
   "cell_type": "code",
   "execution_count": 4,
   "id": "0028ff4a",
   "metadata": {},
   "outputs": [],
   "source": [
    "if (10 > 1) and (11 == 12):\n",
    "    print(\"참이면 실행\")"
   ]
  },
  {
   "cell_type": "markdown",
   "id": "ec37c3b9",
   "metadata": {},
   "source": [
    "  "
   ]
  },
  {
   "cell_type": "markdown",
   "id": "4476b5ac",
   "metadata": {},
   "source": [
    "  "
   ]
  },
  {
   "cell_type": "markdown",
   "id": "a6b1a3a3",
   "metadata": {},
   "source": [
    "**기본 자료형에도 참, 거짓이 있음**\n",
    "\n",
    "False로 간주되는 값\n",
    " * None\n",
    " * 0\n",
    " * '' 빈 문자열\n",
    " * []  빈 리스트\n",
    " * {}  빈 딕셔너리"
   ]
  },
  {
   "cell_type": "code",
   "execution_count": 8,
   "id": "326b926d",
   "metadata": {},
   "outputs": [],
   "source": [
    "if  \"\":\n",
    "    print(\"참이면 실행\")"
   ]
  }
 ],
 "metadata": {
  "kernelspec": {
   "display_name": "Python 3 (ipykernel)",
   "language": "python",
   "name": "python3"
  },
  "language_info": {
   "codemirror_mode": {
    "name": "ipython",
    "version": 3
   },
   "file_extension": ".py",
   "mimetype": "text/x-python",
   "name": "python",
   "nbconvert_exporter": "python",
   "pygments_lexer": "ipython3",
   "version": "3.9.13"
  }
 },
 "nbformat": 4,
 "nbformat_minor": 5
}
