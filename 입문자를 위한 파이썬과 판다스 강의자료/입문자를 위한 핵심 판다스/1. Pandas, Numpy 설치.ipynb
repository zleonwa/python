{
 "cells": [
  {
   "cell_type": "markdown",
   "id": "b9b25114",
   "metadata": {},
   "source": [
    "## 라이브러리의 의미?\n",
    "\n",
    "프로그래밍을 하면서 모든 기능을 하나 하나 직접 개발하는 것은 너무나 힘든 일이다.  \n",
    "우리가 밥을 먹기 위해서 농사부터 짓는게 아니라 마트가서 식료품을 사오듯,  \n",
    "프로그래밍에서는 라이브러리를 통해 다양한 기능을 쉽게 구현할 수 있다."
   ]
  },
  {
   "cell_type": "markdown",
   "id": "c42c61d0",
   "metadata": {},
   "source": [
    "  "
   ]
  },
  {
   "cell_type": "markdown",
   "id": "9b676c56",
   "metadata": {},
   "source": [
    "  "
   ]
  },
  {
   "cell_type": "markdown",
   "id": "b6021365",
   "metadata": {},
   "source": [
    "## Pandas, Numpy\n",
    "\n",
    "판다스는 파이썬으로 데이터를 다룰 때 가장 많이 사용하는 라이브러리.  \n",
    "쉽게 생각하자면, 판다스 = 엑셀 파이썬 버전  \n",
    "\n",
    "넘파이는 파이썬으로 선형대수를 다룰 때 가장 많이 사용하는 라이브러리.  \n",
    "본 기초 강의에서는 크게 다룰 일은 없지만, 판다스를 쓸 때 감초처럼 사용"
   ]
  },
  {
   "cell_type": "code",
   "execution_count": 1,
   "id": "fdf2dd91",
   "metadata": {},
   "outputs": [
    {
     "name": "stdout",
     "output_type": "stream",
     "text": [
      "Requirement already satisfied: pandas==1.3.4 in c:\\anaconda\\lib\\site-packages (1.3.4)Note: you may need to restart the kernel to use updated packages.\n",
      "Requirement already satisfied: numpy>=1.17.3 in c:\\anaconda\\lib\\site-packages (from pandas==1.3.4) (1.20.3)\n",
      "Requirement already satisfied: python-dateutil>=2.7.3 in c:\\anaconda\\lib\\site-packages (from pandas==1.3.4) (2.8.2)\n",
      "Requirement already satisfied: pytz>=2017.3 in c:\\anaconda\\lib\\site-packages (from pandas==1.3.4) (2021.3)\n",
      "Requirement already satisfied: six>=1.5 in c:\\anaconda\\lib\\site-packages (from python-dateutil>=2.7.3->pandas==1.3.4) (1.16.0)\n",
      "\n"
     ]
    }
   ],
   "source": [
    "pip install pandas==\"1.3.4\""
   ]
  },
  {
   "cell_type": "code",
   "execution_count": 2,
   "id": "bf0c4fd4",
   "metadata": {},
   "outputs": [
    {
     "name": "stdout",
     "output_type": "stream",
     "text": [
      "Requirement already satisfied: numpy==1.20.3 in c:\\anaconda\\lib\\site-packages (1.20.3)\n",
      "Note: you may need to restart the kernel to use updated packages.\n"
     ]
    }
   ],
   "source": [
    "pip install numpy==\"1.20.3\""
   ]
  },
  {
   "cell_type": "code",
   "execution_count": 1,
   "id": "560a60a9",
   "metadata": {},
   "outputs": [
    {
     "name": "stdout",
     "output_type": "stream",
     "text": [
      "1.3.4\n",
      "1.20.3\n"
     ]
    }
   ],
   "source": [
    "import pandas as pd\n",
    "import numpy as np\n",
    "\n",
    "print(pd.__version__)\n",
    "print(np.__version__)"
   ]
  }
 ],
 "metadata": {
  "kernelspec": {
   "display_name": "Python 3 (ipykernel)",
   "language": "python",
   "name": "python3"
  },
  "language_info": {
   "codemirror_mode": {
    "name": "ipython",
    "version": 3
   },
   "file_extension": ".py",
   "mimetype": "text/x-python",
   "name": "python",
   "nbconvert_exporter": "python",
   "pygments_lexer": "ipython3",
   "version": "3.9.12"
  }
 },
 "nbformat": 4,
 "nbformat_minor": 5
}
